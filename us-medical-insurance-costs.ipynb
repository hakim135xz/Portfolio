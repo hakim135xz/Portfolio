{
 "cells": [
  {
   "cell_type": "markdown",
   "metadata": {},
   "source": [
    "# U.S. Medical Insurance Costs"
   ]
  },
  {
   "source": [
    "The first step to start analyzing and cleaning the data is to import necessaary modules to make the code simpler to work with.\n",
    "1. Importing the necessary modules and packages to analyze datas"
   ],
   "cell_type": "markdown",
   "metadata": {}
  },
  {
   "cell_type": "code",
   "execution_count": 1,
   "metadata": {},
   "outputs": [],
   "source": [
    "import pandas as pd\n",
    "import numpy as np"
   ]
  },
  {
   "source": [
    "Converting CSV file to Dataframe using pandas to organize the data easier"
   ],
   "cell_type": "markdown",
   "metadata": {}
  },
  {
   "cell_type": "code",
   "execution_count": 2,
   "metadata": {},
   "outputs": [],
   "source": [
    "data = pd.read_csv(\"insurance.csv\")"
   ]
  },
  {
   "source": [
    "Extracting the information from the dataframe format and changing it into lists to be able to manipulate the data."
   ],
   "cell_type": "markdown",
   "metadata": {}
  },
  {
   "cell_type": "code",
   "execution_count": 3,
   "metadata": {},
   "outputs": [],
   "source": [
    "ages = list(data.age)\n",
    "sexes = list(data.sex)\n",
    "bmis = list(data.bmi)\n",
    "num_children = list(data.children)\n",
    "smoker_status = list(data.smoker)\n",
    "regions = list(data.region)\n",
    "insurance_charges = list(data.charges)"
   ]
  },
  {
   "source": [
    "Each of the lists listed above are the data obtained from rows and columns of the initial csv files. With the data available in the form of list, the analysis can be started"
   ],
   "cell_type": "markdown",
   "metadata": {}
  },
  {
   "source": [
    "The first thing to analyze is the average age for all patients."
   ],
   "cell_type": "markdown",
   "metadata": {}
  },
  {
   "cell_type": "code",
   "execution_count": 4,
   "metadata": {},
   "outputs": [
    {
     "output_type": "execute_result",
     "data": {
      "text/plain": [
       "'The average age for the patients are: 39.21 years.'"
      ]
     },
     "metadata": {},
     "execution_count": 4
    }
   ],
   "source": [
    "def average_age():\n",
    "    total_age = 0\n",
    "    for age in ages:\n",
    "        total_age += age\n",
    "    average_age = round(total_age / len(data.age), 2)\n",
    "    return (\"The average age for the patients are: {a} years.\".format(a=average_age))\n",
    "\n",
    "average_age()"
   ]
  },
  {
   "source": [
    "The second thing that we can analyze is the number of males vs females in the patients list."
   ],
   "cell_type": "markdown",
   "metadata": {}
  },
  {
   "cell_type": "code",
   "execution_count": 5,
   "metadata": {},
   "outputs": [
    {
     "output_type": "execute_result",
     "data": {
      "text/plain": [
       "'The number of males are : 676. Meanwhile, the number of females are : 662.'"
      ]
     },
     "metadata": {},
     "execution_count": 5
    }
   ],
   "source": [
    "def female_vs_male():\n",
    "    male_count = 0\n",
    "    female_count = 0\n",
    "    for sex in sexes:\n",
    "        if sex == \"male\":\n",
    "            male_count += 1\n",
    "        elif sex == \"female\":\n",
    "            female_count += 1\n",
    "    return (\"The number of males are : {m}. Meanwhile, the number of females are : {f}.\".format(m=male_count, f=female_count))\n",
    "\n",
    "female_vs_male()"
   ]
  },
  {
   "source": [
    "The third thing that we can analyze is which region the patients are from."
   ],
   "cell_type": "markdown",
   "metadata": {}
  },
  {
   "cell_type": "code",
   "execution_count": 6,
   "metadata": {},
   "outputs": [
    {
     "output_type": "execute_result",
     "data": {
      "text/plain": [
       "'The number of patients from southwest is 325, from southeast is 364, from northwest is 325 and from northeast is 324.'"
      ]
     },
     "metadata": {},
     "execution_count": 6
    }
   ],
   "source": [
    "def patient_region(): \n",
    "    southwest_count = 0\n",
    "    southeast_count = 0\n",
    "    northwest_count = 0\n",
    "    northeast_count = 0\n",
    "    for item in regions:\n",
    "        if item == \"southwest\":\n",
    "            southwest_count += 1\n",
    "        elif item == \"southeast\":\n",
    "            southeast_count += 1\n",
    "        elif item == \"northwest\":\n",
    "            northwest_count += 1\n",
    "        elif item == \"northeast\":\n",
    "            northeast_count += 1\n",
    "    return (\"The number of patients from southwest is {sw}, from southeast is {se}, from northwest is {nw} and from northeast is {ne}.\".format(sw=southwest_count, se=southeast_count, nw=northwest_count, ne=northeast_count))\n",
    "\n",
    "patient_region()"
   ]
  },
  {
   "source": [
    "The fourth thing that we can analyze is the average difference of costs between smokers and non smokers."
   ],
   "cell_type": "markdown",
   "metadata": {}
  },
  {
   "cell_type": "code",
   "execution_count": 7,
   "metadata": {},
   "outputs": [
    {
     "output_type": "execute_result",
     "data": {
      "text/plain": [
       "'The difference between the average in cost between smokers and non smokers are: 23615.96'"
      ]
     },
     "metadata": {},
     "execution_count": 7
    }
   ],
   "source": [
    "def average_charges_smokers_vs_non():\n",
    "    # zipping the data together for list comprehension\n",
    "    zipped_list = list(zip(smoker_status, insurance_charges))\n",
    "    # list comprehension seperating the charges between smokers and non smokers\n",
    "    smoker_charges = [x[1] for x in zipped_list if x[0] == \"yes\"]\n",
    "    non_smoker_charges = [x[1] for x in zipped_list if x[0] == \"no\"]\n",
    "    # finding the values\n",
    "    smoker_total_charges = 0\n",
    "    non_smoker_total_charges = 0\n",
    "    # for loop to iterate\n",
    "    for item in smoker_charges:\n",
    "        smoker_total_charges += item\n",
    "    for item in non_smoker_charges:\n",
    "        non_smoker_total_charges += item\n",
    "    # dividing the total charges with the number of patients respectively\n",
    "    average_smoker_charges = smoker_total_charges / len(smoker_charges)\n",
    "    average_non_smoker_charges = non_smoker_total_charges / len(non_smoker_charges)\n",
    "    # substracting the two in order to get the charges\n",
    "    average_difference = round(average_smoker_charges - average_non_smoker_charges, 2)\n",
    "    # returning the values\n",
    "    return (\"The difference between the average in cost between smokers and non smokers are: {c}\".format(c=average_difference))\n",
    "\n",
    "average_charges_smokers_vs_non()"
   ]
  },
  {
   "source": [
    "The last thing that we will analyze in this set of datas are the average age of people with 1 child."
   ],
   "cell_type": "markdown",
   "metadata": {}
  },
  {
   "cell_type": "code",
   "execution_count": 8,
   "metadata": {},
   "outputs": [
    {
     "output_type": "execute_result",
     "data": {
      "text/plain": [
       "'The average age for people with 1 child: 39.45 years.'"
      ]
     },
     "metadata": {},
     "execution_count": 8
    }
   ],
   "source": [
    "def average_age_for_1_child():\n",
    "    age_and_chilren = list(zip(ages, num_children))\n",
    "    age_and_1_children = [x[0] for x in age_and_chilren if x[1] == 1]\n",
    "    # finding the average age for people with 1 child\n",
    "    total_age_with_1_child = 0\n",
    "    # for loop to increase the count\n",
    "    for age in age_and_1_children:\n",
    "        total_age_with_1_child += age\n",
    "    # dividing the total age with the number of patients\n",
    "    average_age_with_1_child = round(total_age_with_1_child / len(age_and_1_children), 2)\n",
    "    return (\"The average age for people with 1 child: {ag} years.\".format(ag=average_age_with_1_child))\n",
    "\n",
    "average_age_for_1_child()"
   ]
  },
  {
   "cell_type": "code",
   "execution_count": null,
   "metadata": {},
   "outputs": [],
   "source": []
  }
 ],
 "metadata": {
  "kernelspec": {
   "name": "python3",
   "display_name": "Python 3.8.8 64-bit ('base': conda)"
  },
  "language_info": {
   "codemirror_mode": {
    "name": "ipython",
    "version": 3
   },
   "file_extension": ".py",
   "mimetype": "text/x-python",
   "name": "python",
   "nbconvert_exporter": "python",
   "pygments_lexer": "ipython3",
   "version": "3.8.8"
  },
  "interpreter": {
   "hash": "68030d972bd2577743b433c47aac0e105c551528aab396bbe2d8a3bf0857501f"
  }
 },
 "nbformat": 4,
 "nbformat_minor": 4
}